{
 "cells": [
  {
   "cell_type": "markdown",
   "id": "6ea1f293-a825-4875-b193-2ba86836066c",
   "metadata": {
    "tags": []
   },
   "source": [
    "\n",
    "# <a href=\"https://www.kaggle.com/datasets/samanemami/market-research-survey\">Market Research Survey Dataset</a>\n"
   ]
  },
  {
   "cell_type": "markdown",
   "id": "bc204924-2cb0-4ce3-a792-e1cf7d44ab56",
   "metadata": {
    "tags": []
   },
   "source": [
    "## Survey Questions and Response Key\t\t\t\n",
    "\t\t\t\n",
    "#### 1) What is your yearly salary, not including bonuses?\t\t\t\n",
    "Respondents enter numeric value\t\t\t\n",
    "\t\t\t\n",
    "#### 2) What is your age?\t\t\t\n",
    "Respondents enter numeric value\t\t\t\n",
    "\t\t\t\n",
    "#### 3) What is the highest level of education you have obtained?\t\t\t\n",
    "Respondents select from the following 5 choices:\t\t\t\n",
    "Value \tDescription\t\t\n",
    "0\tLess than High School Degree\t\t\n",
    "1\tHigh School Degree\t\t\n",
    "2\tSome College\t\t\n",
    "3\t4-Year College Degree\t\t\n",
    "4\tMaster's, Doctoral or Professional Degree\t\t\n",
    "\t\t\t\n",
    "#### 4) What is the make of your primary car?\t\t\t\n",
    "Respondents select from the following 20 choices:\t\t\t\n",
    "Value \tDescription\t\t\n",
    "1\tBMW\t\t\n",
    "2\tBuick\t\t\n",
    "3\tCadillac\t\t\n",
    "4\tChevrolet\t\t\n",
    "5\tChrysler\t\t\n",
    "6\tDodge\t\t\n",
    "7\tFord\t\t\n",
    "8\tHonda\t\t\n",
    "9\tHyundai\t\t\n",
    "10\tJeep\t\t\n",
    "11\tKia\t\t\n",
    "12\tLincoln\t\t\n",
    "13\tMazda\t\t\n",
    "14\tMercedes Benz\t\t\n",
    "15\tMitsubishi\t\t\n",
    "16\tNissan\t\t\n",
    "17\tRam\t\t\n",
    "18\tSubaru\t\t\n",
    "19\tToyota\t\t\n",
    "20\tNone of the above\t\t\n",
    "\t\t\t\n",
    "#### 5) What is your zip code?\t\t\t\n",
    "Respondents enter zip code, which is captured as 1 of the following 9 regions in the U.S.\t\t\t\n",
    "Value\tRegion\t\t\n",
    "0\tNew England\t\t\n",
    "1\tMid-Atlantic\t\t\n",
    "2\tEast North Central\t\t\n",
    "3\tWest North Central\t\t\n",
    "4\tSouth Atlantic\t\t\n",
    "5\tEast South Central\t\t\n",
    "6\tWest South Central\t\t\n",
    "7\tMountain\t\t\n",
    "8\tPacific\t\t\n",
    "\t\t\t\n",
    "#### 6) What amount of credit is available to you?\t\t\t\n",
    "Respondents enter numeric value\t\t\t\n",
    "\t\t\t\n",
    "#### 7) Which brand of computers do you prefer?\t\t\t\n",
    "Respondents select from the following 2 choices:\t\t\t\n",
    "Value \tDescription\t\t\n",
    "0\tAcer\t\t\n",
    "1\tSony\t\t"
   ]
  },
  {
   "cell_type": "code",
   "execution_count": 1,
   "id": "39e5a445-f0b0-4150-a2f9-b806ec50db05",
   "metadata": {},
   "outputs": [],
   "source": [
    "import pandas as pd\n",
    "import numpy as np\n",
    "import seaborn as sns\n",
    "import matplotlib.pyplot as plt\n",
    "from sklearn.model_selection import train_test_split\n",
    "from sklearn.preprocessing import StandardScaler\n",
    "from sklearn.ensemble import RandomForestClassifier\n",
    "from sklearn.metrics import accuracy_score, classification_report\n",
    "from sklearn.preprocessing import LabelEncoder\n",
    "from xgboost import XGBClassifier\n",
    "from sklearn import metrics\n",
    "%matplotlib inline"
   ]
  },
  {
   "cell_type": "code",
   "execution_count": 2,
   "id": "1540a240-ca67-4e84-8ae5-ebf23fd67442",
   "metadata": {},
   "outputs": [],
   "source": [
    "#download dataset from: https://www.kaggle.com/datasets/samanemami/market-research-survey\n",
    "df = pd.read_csv('..\\Data Science Projects/CompleteResponses.csv')"
   ]
  },
  {
   "cell_type": "code",
   "execution_count": 3,
   "id": "b17fc4b4-d858-470c-84cb-c82f972c7f8f",
   "metadata": {},
   "outputs": [
    {
     "data": {
      "text/html": [
       "<div>\n",
       "<style scoped>\n",
       "    .dataframe tbody tr th:only-of-type {\n",
       "        vertical-align: middle;\n",
       "    }\n",
       "\n",
       "    .dataframe tbody tr th {\n",
       "        vertical-align: top;\n",
       "    }\n",
       "\n",
       "    .dataframe thead th {\n",
       "        text-align: right;\n",
       "    }\n",
       "</style>\n",
       "<table border=\"1\" class=\"dataframe\">\n",
       "  <thead>\n",
       "    <tr style=\"text-align: right;\">\n",
       "      <th></th>\n",
       "      <th>0</th>\n",
       "      <th>1</th>\n",
       "      <th>2</th>\n",
       "      <th>3</th>\n",
       "      <th>4</th>\n",
       "    </tr>\n",
       "  </thead>\n",
       "  <tbody>\n",
       "    <tr>\n",
       "      <th>salary</th>\n",
       "      <td>119806.5448</td>\n",
       "      <td>106880.47840</td>\n",
       "      <td>78020.75094</td>\n",
       "      <td>63689.93635</td>\n",
       "      <td>50873.6188</td>\n",
       "    </tr>\n",
       "    <tr>\n",
       "      <th>age</th>\n",
       "      <td>45.0000</td>\n",
       "      <td>63.00000</td>\n",
       "      <td>23.00000</td>\n",
       "      <td>51.00000</td>\n",
       "      <td>20.0000</td>\n",
       "    </tr>\n",
       "    <tr>\n",
       "      <th>elevel</th>\n",
       "      <td>0.0000</td>\n",
       "      <td>1.00000</td>\n",
       "      <td>0.00000</td>\n",
       "      <td>3.00000</td>\n",
       "      <td>3.0000</td>\n",
       "    </tr>\n",
       "    <tr>\n",
       "      <th>car</th>\n",
       "      <td>14.0000</td>\n",
       "      <td>11.00000</td>\n",
       "      <td>15.00000</td>\n",
       "      <td>6.00000</td>\n",
       "      <td>14.0000</td>\n",
       "    </tr>\n",
       "    <tr>\n",
       "      <th>zipcode</th>\n",
       "      <td>4.0000</td>\n",
       "      <td>6.00000</td>\n",
       "      <td>2.00000</td>\n",
       "      <td>5.00000</td>\n",
       "      <td>4.0000</td>\n",
       "    </tr>\n",
       "    <tr>\n",
       "      <th>credit</th>\n",
       "      <td>442037.7113</td>\n",
       "      <td>45007.17883</td>\n",
       "      <td>48795.32279</td>\n",
       "      <td>40888.87736</td>\n",
       "      <td>352951.4977</td>\n",
       "    </tr>\n",
       "    <tr>\n",
       "      <th>brand</th>\n",
       "      <td>0.0000</td>\n",
       "      <td>1.00000</td>\n",
       "      <td>0.00000</td>\n",
       "      <td>1.00000</td>\n",
       "      <td>0.0000</td>\n",
       "    </tr>\n",
       "  </tbody>\n",
       "</table>\n",
       "</div>"
      ],
      "text/plain": [
       "                   0             1            2            3            4\n",
       "salary   119806.5448  106880.47840  78020.75094  63689.93635   50873.6188\n",
       "age          45.0000      63.00000     23.00000     51.00000      20.0000\n",
       "elevel        0.0000       1.00000      0.00000      3.00000       3.0000\n",
       "car          14.0000      11.00000     15.00000      6.00000      14.0000\n",
       "zipcode       4.0000       6.00000      2.00000      5.00000       4.0000\n",
       "credit   442037.7113   45007.17883  48795.32279  40888.87736  352951.4977\n",
       "brand         0.0000       1.00000      0.00000      1.00000       0.0000"
      ]
     },
     "execution_count": 3,
     "metadata": {},
     "output_type": "execute_result"
    }
   ],
   "source": [
    "df.head().T"
   ]
  },
  {
   "cell_type": "code",
   "execution_count": 4,
   "id": "723c4ddb-7f09-43c0-8d35-e97c6ff36975",
   "metadata": {},
   "outputs": [
    {
     "data": {
      "text/html": [
       "<div>\n",
       "<style scoped>\n",
       "    .dataframe tbody tr th:only-of-type {\n",
       "        vertical-align: middle;\n",
       "    }\n",
       "\n",
       "    .dataframe tbody tr th {\n",
       "        vertical-align: top;\n",
       "    }\n",
       "\n",
       "    .dataframe thead th {\n",
       "        text-align: right;\n",
       "    }\n",
       "</style>\n",
       "<table border=\"1\" class=\"dataframe\">\n",
       "  <thead>\n",
       "    <tr style=\"text-align: right;\">\n",
       "      <th></th>\n",
       "      <th>salary</th>\n",
       "      <th>age</th>\n",
       "      <th>elevel</th>\n",
       "      <th>car</th>\n",
       "      <th>zipcode</th>\n",
       "      <th>credit</th>\n",
       "      <th>brand</th>\n",
       "    </tr>\n",
       "  </thead>\n",
       "  <tbody>\n",
       "    <tr>\n",
       "      <th>count</th>\n",
       "      <td>9898.000000</td>\n",
       "      <td>9898.000000</td>\n",
       "      <td>9898.000000</td>\n",
       "      <td>9898.000000</td>\n",
       "      <td>9898.000000</td>\n",
       "      <td>9898.000000</td>\n",
       "      <td>9898.000000</td>\n",
       "    </tr>\n",
       "    <tr>\n",
       "      <th>mean</th>\n",
       "      <td>84870.862257</td>\n",
       "      <td>49.778642</td>\n",
       "      <td>1.982926</td>\n",
       "      <td>10.521924</td>\n",
       "      <td>4.040816</td>\n",
       "      <td>249175.966620</td>\n",
       "      <td>0.621742</td>\n",
       "    </tr>\n",
       "    <tr>\n",
       "      <th>std</th>\n",
       "      <td>37712.340836</td>\n",
       "      <td>17.596685</td>\n",
       "      <td>1.420562</td>\n",
       "      <td>5.771435</td>\n",
       "      <td>2.582058</td>\n",
       "      <td>145211.572531</td>\n",
       "      <td>0.484977</td>\n",
       "    </tr>\n",
       "    <tr>\n",
       "      <th>min</th>\n",
       "      <td>20000.000000</td>\n",
       "      <td>20.000000</td>\n",
       "      <td>0.000000</td>\n",
       "      <td>1.000000</td>\n",
       "      <td>0.000000</td>\n",
       "      <td>0.000000</td>\n",
       "      <td>0.000000</td>\n",
       "    </tr>\n",
       "    <tr>\n",
       "      <th>25%</th>\n",
       "      <td>52082.106040</td>\n",
       "      <td>35.000000</td>\n",
       "      <td>1.000000</td>\n",
       "      <td>6.000000</td>\n",
       "      <td>2.000000</td>\n",
       "      <td>120806.813900</td>\n",
       "      <td>0.000000</td>\n",
       "    </tr>\n",
       "    <tr>\n",
       "      <th>50%</th>\n",
       "      <td>84949.735155</td>\n",
       "      <td>50.000000</td>\n",
       "      <td>2.000000</td>\n",
       "      <td>11.000000</td>\n",
       "      <td>4.000000</td>\n",
       "      <td>250607.146100</td>\n",
       "      <td>1.000000</td>\n",
       "    </tr>\n",
       "    <tr>\n",
       "      <th>75%</th>\n",
       "      <td>117162.043375</td>\n",
       "      <td>65.000000</td>\n",
       "      <td>3.000000</td>\n",
       "      <td>15.750000</td>\n",
       "      <td>6.000000</td>\n",
       "      <td>374639.701800</td>\n",
       "      <td>1.000000</td>\n",
       "    </tr>\n",
       "    <tr>\n",
       "      <th>max</th>\n",
       "      <td>150000.000000</td>\n",
       "      <td>80.000000</td>\n",
       "      <td>4.000000</td>\n",
       "      <td>20.000000</td>\n",
       "      <td>8.000000</td>\n",
       "      <td>500000.000000</td>\n",
       "      <td>1.000000</td>\n",
       "    </tr>\n",
       "  </tbody>\n",
       "</table>\n",
       "</div>"
      ],
      "text/plain": [
       "              salary          age       elevel          car      zipcode  \\\n",
       "count    9898.000000  9898.000000  9898.000000  9898.000000  9898.000000   \n",
       "mean    84870.862257    49.778642     1.982926    10.521924     4.040816   \n",
       "std     37712.340836    17.596685     1.420562     5.771435     2.582058   \n",
       "min     20000.000000    20.000000     0.000000     1.000000     0.000000   \n",
       "25%     52082.106040    35.000000     1.000000     6.000000     2.000000   \n",
       "50%     84949.735155    50.000000     2.000000    11.000000     4.000000   \n",
       "75%    117162.043375    65.000000     3.000000    15.750000     6.000000   \n",
       "max    150000.000000    80.000000     4.000000    20.000000     8.000000   \n",
       "\n",
       "              credit        brand  \n",
       "count    9898.000000  9898.000000  \n",
       "mean   249175.966620     0.621742  \n",
       "std    145211.572531     0.484977  \n",
       "min         0.000000     0.000000  \n",
       "25%    120806.813900     0.000000  \n",
       "50%    250607.146100     1.000000  \n",
       "75%    374639.701800     1.000000  \n",
       "max    500000.000000     1.000000  "
      ]
     },
     "execution_count": 4,
     "metadata": {},
     "output_type": "execute_result"
    }
   ],
   "source": [
    "df.describe()"
   ]
  },
  {
   "cell_type": "code",
   "execution_count": 5,
   "id": "48813ea8-e703-44f6-85da-3442bfbc8d7b",
   "metadata": {},
   "outputs": [
    {
     "name": "stdout",
     "output_type": "stream",
     "text": [
      "<class 'pandas.core.frame.DataFrame'>\n",
      "RangeIndex: 9898 entries, 0 to 9897\n",
      "Data columns (total 7 columns):\n",
      " #   Column   Non-Null Count  Dtype  \n",
      "---  ------   --------------  -----  \n",
      " 0   salary   9898 non-null   float64\n",
      " 1   age      9898 non-null   int64  \n",
      " 2   elevel   9898 non-null   int64  \n",
      " 3   car      9898 non-null   int64  \n",
      " 4   zipcode  9898 non-null   int64  \n",
      " 5   credit   9898 non-null   float64\n",
      " 6   brand    9898 non-null   int64  \n",
      "dtypes: float64(2), int64(5)\n",
      "memory usage: 541.4 KB\n"
     ]
    }
   ],
   "source": [
    "df.info()"
   ]
  },
  {
   "cell_type": "code",
   "execution_count": 6,
   "id": "360b3ee1-dd02-46d7-a1fa-261b91f9beb7",
   "metadata": {},
   "outputs": [
    {
     "data": {
      "text/plain": [
       "salary     9656\n",
       "age          61\n",
       "elevel        5\n",
       "car          20\n",
       "zipcode       9\n",
       "credit     9652\n",
       "brand         2\n",
       "dtype: int64"
      ]
     },
     "execution_count": 6,
     "metadata": {},
     "output_type": "execute_result"
    }
   ],
   "source": [
    "df.nunique()"
   ]
  },
  {
   "cell_type": "code",
   "execution_count": 7,
   "id": "a58e3cda-b5f8-41c1-927d-5cfa13455137",
   "metadata": {},
   "outputs": [
    {
     "data": {
      "text/plain": [
       "<AxesSubplot:title={'center':'Heatmap Correlation'}>"
      ]
     },
     "execution_count": 7,
     "metadata": {},
     "output_type": "execute_result"
    },
    {
     "data": {
      "image/png": "[encoded data removed]",
      "text/plain": [
       "<Figure size 720x576 with 2 Axes>"
      ]
     },
     "metadata": {
      "needs_background": "light"
     },
     "output_type": "display_data"
    }
   ],
   "source": [
    "#check correlation using heatmap\n",
    "plt.figure(figsize=(10,8))\n",
    "cor = df.corr() \n",
    "plt.title('Heatmap Correlation')\n",
    "sns.heatmap(cor, annot = True) "
   ]
  },
  {
   "cell_type": "code",
   "execution_count": 8,
   "id": "6445379e-3a7c-4049-be17-d95cba74d358",
   "metadata": {},
   "outputs": [],
   "source": [
    "#transform data\n",
    "df['Elevel']=df['elevel'].replace({0:'Less than High School Degree', 1:'High School Degree', 2:'Some College', 3:'4-Year College Degree', 4:'Masters, Doctoral or Professional Degree'})\n",
    "df['Car']=df['car'].replace({1:'BMW', 2:'Buick', 3:'Cadillac', 4:'Chevrolet', 5:'Chrysler', 6:'Dodge', 7:'Ford', 8:'Honda', 9:'Hyundai', 10:'Jeep', 11:'Kia', 12:'Lincoln', 13:'Mazda', 14:'Mercedes Benz', 15:'Mitsubishi', 16:'Nissan', 17:'Ram', 18:'Subaru', 19:'Toyota', 20:'None of the above'})\n",
    "df['Zipcode']=df['zipcode'].replace({0:'New England', 1:'Mid-Atlantic', 2:'East North Central', 3:'West North Central', 4:'South Atlantic', 5:'East South Central', 6:'West South Central', 7:'Mountain', 8:'Pacific'})\n",
    "df['Brand']=df['brand'].replace({0:'Acer', 1:'Sony'})"
   ]
  },
  {
   "cell_type": "code",
   "execution_count": 9,
   "id": "48f8cf85-ed5b-4f27-b367-c3dd70ac73f6",
   "metadata": {},
   "outputs": [
    {
     "data": {
      "text/plain": [
       "Less than High School Degree                2052\n",
       "Some College                                1983\n",
       "Masters, Doctoral or Professional Degree    1968\n",
       "High School Degree                          1948\n",
       "4-Year College Degree                       1947\n",
       "Name: Elevel, dtype: int64"
      ]
     },
     "execution_count": 9,
     "metadata": {},
     "output_type": "execute_result"
    }
   ],
   "source": [
    "df['Elevel'].value_counts()"
   ]
  },
  {
   "cell_type": "code",
   "execution_count": 10,
   "id": "0ca9015a-66f6-49a0-be39-a40ce228d4df",
   "metadata": {
    "tags": []
   },
   "outputs": [
    {
     "data": {
      "text/plain": [
       "Mitsubishi           542\n",
       "Subaru               524\n",
       "Honda                511\n",
       "Buick                509\n",
       "Ram                  508\n",
       "Chrysler             505\n",
       "Jeep                 500\n",
       "Lincoln              498\n",
       "Ford                 495\n",
       "Mercedes Benz        494\n",
       "BMW                  492\n",
       "Toyota               489\n",
       "Cadillac             488\n",
       "Hyundai              487\n",
       "None of the above    484\n",
       "Chevrolet            479\n",
       "Dodge                477\n",
       "Kia                  473\n",
       "Mazda                473\n",
       "Nissan               470\n",
       "Name: Car, dtype: int64"
      ]
     },
     "execution_count": 10,
     "metadata": {},
     "output_type": "execute_result"
    }
   ],
   "source": [
    "df['Car'].value_counts()"
   ]
  },
  {
   "cell_type": "code",
   "execution_count": 11,
   "id": "5d2f4fe4-f59c-4a9d-a4d3-ff67e8bb89a1",
   "metadata": {},
   "outputs": [
    {
     "data": {
      "text/plain": [
       "West South Central    1155\n",
       "Pacific               1135\n",
       "East North Central    1112\n",
       "East South Central    1108\n",
       "South Atlantic        1087\n",
       "New England           1085\n",
       "Mountain              1083\n",
       "West North Central    1080\n",
       "Mid-Atlantic          1053\n",
       "Name: Zipcode, dtype: int64"
      ]
     },
     "execution_count": 11,
     "metadata": {},
     "output_type": "execute_result"
    }
   ],
   "source": [
    "df['Zipcode'].value_counts()"
   ]
  },
  {
   "cell_type": "code",
   "execution_count": 12,
   "id": "d0bfe0f2-5949-4323-9e9c-cf2eafc029be",
   "metadata": {},
   "outputs": [
    {
     "data": {
      "text/plain": [
       "Sony    6154\n",
       "Acer    3744\n",
       "Name: Brand, dtype: int64"
      ]
     },
     "execution_count": 12,
     "metadata": {},
     "output_type": "execute_result"
    }
   ],
   "source": [
    "df['Brand'].value_counts()"
   ]
  },
  {
   "cell_type": "code",
   "execution_count": 13,
   "id": "96a0c87b-0819-4c7d-814d-34f5ca3935d8",
   "metadata": {},
   "outputs": [
    {
     "data": {
      "text/plain": [
       "<AxesSubplot:title={'center':'Education Level'}, xlabel='Elevel', ylabel='count'>"
      ]
     },
     "execution_count": 13,
     "metadata": {},
     "output_type": "execute_result"
    },
    {
     "data": {
      "image/png": "[encoded data removed]",
      "text/plain": [
       "<Figure size 1080x432 with 1 Axes>"
      ]
     },
     "metadata": {
      "needs_background": "light"
     },
     "output_type": "display_data"
    }
   ],
   "source": [
    "#visualize elevel\n",
    "plt.figure(figsize = (15,6))\n",
    "plt.title(\"Education Level\")\n",
    "plt.xlabel(\"Education\")\n",
    "plt.ylabel(\"Count\")\n",
    "sns.countplot(x=df.Elevel)"
   ]
  },
  {
   "cell_type": "code",
   "execution_count": 14,
   "id": "965293f2-e8c4-4e2c-9f02-fc7b1873e0a9",
   "metadata": {},
   "outputs": [
    {
     "data": {
      "text/plain": [
       "<AxesSubplot:title={'center':'Brand of Car'}, xlabel='Car', ylabel='count'>"
      ]
     },
     "execution_count": 14,
     "metadata": {},
     "output_type": "execute_result"
    },
    {
     "data": {
      "image/png": "[encoded data removed]",
      "text/plain": [
       "<Figure size 2160x432 with 1 Axes>"
      ]
     },
     "metadata": {
      "needs_background": "light"
     },
     "output_type": "display_data"
    }
   ],
   "source": [
    "#visualize brand of car\n",
    "plt.figure(figsize = (30,6))\n",
    "plt.title(\"Brand of Car\")\n",
    "plt.xlabel(\"Car\")\n",
    "plt.ylabel(\"Count\")\n",
    "sns.countplot(x=df.Car)"
   ]
  },
  {
   "cell_type": "code",
   "execution_count": 15,
   "id": "5d072bfe-d5fa-443a-a4b8-2c01dc38cdd3",
   "metadata": {},
   "outputs": [
    {
     "data": {
      "text/plain": [
       "<AxesSubplot:title={'center':'Zipcode'}, xlabel='Zipcode', ylabel='count'>"
      ]
     },
     "execution_count": 15,
     "metadata": {},
     "output_type": "execute_result"
    },
    {
     "data": {
      "image/png": "[encoded data removed]",
      "text/plain": [
       "<Figure size 1296x432 with 1 Axes>"
      ]
     },
     "metadata": {
      "needs_background": "light"
     },
     "output_type": "display_data"
    }
   ],
   "source": [
    "#visualize zipcode\n",
    "plt.figure(figsize = (18,6))\n",
    "plt.title(\"Zipcode\")\n",
    "plt.xlabel(\"Zipcode\")\n",
    "plt.ylabel(\"Count\")\n",
    "sns.countplot(x=df.Zipcode)"
   ]
  },
  {
   "cell_type": "code",
   "execution_count": 33,
   "id": "d7b31992-8d89-4780-ab68-d1b1ccd3bd4b",
   "metadata": {
    "tags": []
   },
   "outputs": [
    {
     "data": {
      "text/plain": [
       "<AxesSubplot:title={'center':'Computer Brand'}, xlabel='Brand', ylabel='count'>"
      ]
     },
     "execution_count": 33,
     "metadata": {},
     "output_type": "execute_result"
    },
    {
     "data": {
      "image/png": "[encoded data removed]",
      "text/plain": [
       "<Figure size 576x432 with 1 Axes>"
      ]
     },
     "metadata": {
      "needs_background": "light"
     },
     "output_type": "display_data"
    }
   ],
   "source": [
    "#visualize brand of market\n",
    "plt.figure(figsize = (8,6))\n",
    "plt.title(\"Computer Brand\")\n",
    "plt.xlabel(\"Brand\")\n",
    "plt.ylabel(\"Count\")\n",
    "sns.countplot(x=df.Brand)"
   ]
  },
  {
   "cell_type": "code",
   "execution_count": 17,
   "id": "00a64879-6ff5-423e-9489-6c42a2b6238c",
   "metadata": {},
   "outputs": [
    {
     "data": {
      "image/png": "[encoded data removed]",
      "text/plain": [
       "<Figure size 576x432 with 1 Axes>"
      ]
     },
     "metadata": {
      "needs_background": "light"
     },
     "output_type": "display_data"
    }
   ],
   "source": [
    "#visualize computer brand ~ salary\n",
    "plt.figure(figsize = (8,6))\n",
    "sns.boxplot(data = df, x = 'Brand', y = 'salary', palette = 'Set1')\n",
    "plt.title(\"Computer Brand ~ Salary\")\n",
    "plt.xlabel(\"Brand\")\n",
    "plt.ylabel(\"Salary\")\n",
    "plt.show()"
   ]
  },
  {
   "cell_type": "code",
   "execution_count": 18,
   "id": "c494e074-5c31-4e3e-8297-26c69a122ad3",
   "metadata": {},
   "outputs": [
    {
     "data": {
      "image/png": "[encoded data removed]",
      "text/plain": [
       "<Figure size 576x432 with 1 Axes>"
      ]
     },
     "metadata": {
      "needs_background": "light"
     },
     "output_type": "display_data"
    }
   ],
   "source": [
    "#visualize computer brand ~ age\n",
    "plt.figure(figsize = (8,6))\n",
    "sns.boxplot(data = df, x = 'Brand', y = 'age', palette = 'Set1')\n",
    "plt.title(\"Computer Brand ~ Age\")\n",
    "plt.xlabel(\"Brand\")\n",
    "plt.ylabel(\"Age\")\n",
    "plt.show()"
   ]
  },
  {
   "cell_type": "code",
   "execution_count": 19,
   "id": "f95f10fc-18fb-4a0c-9509-af3599c33f46",
   "metadata": {},
   "outputs": [
    {
     "data": {
      "image/png": "[encoded data removed]",
      "text/plain": [
       "<Figure size 576x432 with 1 Axes>"
      ]
     },
     "metadata": {
      "needs_background": "light"
     },
     "output_type": "display_data"
    }
   ],
   "source": [
    "#visualize computer brand ~ credit\n",
    "plt.figure(figsize = (8,6))\n",
    "sns.boxplot(data = df, x = 'Brand', y = 'credit', palette = 'Set1')\n",
    "plt.title(\"Computer Brand ~ Credit\")\n",
    "plt.xlabel(\"Brand\")\n",
    "plt.ylabel(\"Credit\")\n",
    "plt.show()"
   ]
  },
  {
   "cell_type": "code",
   "execution_count": 20,
   "id": "ea4700dc-f164-4043-9479-df2fe06a0083",
   "metadata": {},
   "outputs": [
    {
     "data": {
      "image/png": "[encoded data removed]",
      "text/plain": [
       "<Figure size 1080x864 with 9 Axes>"
      ]
     },
     "metadata": {
      "needs_background": "light"
     },
     "output_type": "display_data"
    }
   ],
   "source": [
    "#visualize histogram of each attribute\n",
    "df.hist(figsize = (15,12), color = 'blue')\n",
    "plt.show()"
   ]
  },
  {
   "cell_type": "code",
   "execution_count": 21,
   "id": "c1ceb801-a799-4372-af63-4de0a22a667e",
   "metadata": {},
   "outputs": [
    {
     "data": {
      "text/html": [
       "<div>\n",
       "<style scoped>\n",
       "    .dataframe tbody tr th:only-of-type {\n",
       "        vertical-align: middle;\n",
       "    }\n",
       "\n",
       "    .dataframe tbody tr th {\n",
       "        vertical-align: top;\n",
       "    }\n",
       "\n",
       "    .dataframe thead th {\n",
       "        text-align: right;\n",
       "    }\n",
       "</style>\n",
       "<table border=\"1\" class=\"dataframe\">\n",
       "  <thead>\n",
       "    <tr style=\"text-align: right;\">\n",
       "      <th></th>\n",
       "      <th>0</th>\n",
       "      <th>1</th>\n",
       "      <th>2</th>\n",
       "      <th>3</th>\n",
       "      <th>4</th>\n",
       "    </tr>\n",
       "  </thead>\n",
       "  <tbody>\n",
       "    <tr>\n",
       "      <th>salary</th>\n",
       "      <td>119806.5448</td>\n",
       "      <td>106880.4784</td>\n",
       "      <td>78020.75094</td>\n",
       "      <td>63689.93635</td>\n",
       "      <td>50873.6188</td>\n",
       "    </tr>\n",
       "    <tr>\n",
       "      <th>age</th>\n",
       "      <td>45</td>\n",
       "      <td>63</td>\n",
       "      <td>23</td>\n",
       "      <td>51</td>\n",
       "      <td>20</td>\n",
       "    </tr>\n",
       "    <tr>\n",
       "      <th>elevel</th>\n",
       "      <td>0</td>\n",
       "      <td>1</td>\n",
       "      <td>0</td>\n",
       "      <td>3</td>\n",
       "      <td>3</td>\n",
       "    </tr>\n",
       "    <tr>\n",
       "      <th>car</th>\n",
       "      <td>14</td>\n",
       "      <td>11</td>\n",
       "      <td>15</td>\n",
       "      <td>6</td>\n",
       "      <td>14</td>\n",
       "    </tr>\n",
       "    <tr>\n",
       "      <th>zipcode</th>\n",
       "      <td>4</td>\n",
       "      <td>6</td>\n",
       "      <td>2</td>\n",
       "      <td>5</td>\n",
       "      <td>4</td>\n",
       "    </tr>\n",
       "    <tr>\n",
       "      <th>credit</th>\n",
       "      <td>442037.7113</td>\n",
       "      <td>45007.17883</td>\n",
       "      <td>48795.32279</td>\n",
       "      <td>40888.87736</td>\n",
       "      <td>352951.4977</td>\n",
       "    </tr>\n",
       "    <tr>\n",
       "      <th>Brand</th>\n",
       "      <td>Acer</td>\n",
       "      <td>Sony</td>\n",
       "      <td>Acer</td>\n",
       "      <td>Sony</td>\n",
       "      <td>Acer</td>\n",
       "    </tr>\n",
       "  </tbody>\n",
       "</table>\n",
       "</div>"
      ],
      "text/plain": [
       "                   0            1            2            3            4\n",
       "salary   119806.5448  106880.4784  78020.75094  63689.93635   50873.6188\n",
       "age               45           63           23           51           20\n",
       "elevel             0            1            0            3            3\n",
       "car               14           11           15            6           14\n",
       "zipcode            4            6            2            5            4\n",
       "credit   442037.7113  45007.17883  48795.32279  40888.87736  352951.4977\n",
       "Brand           Acer         Sony         Acer         Sony         Acer"
      ]
     },
     "execution_count": 21,
     "metadata": {},
     "output_type": "execute_result"
    }
   ],
   "source": [
    "df.drop(['Elevel','Car','Zipcode','brand'], axis=1, inplace=True)\n",
    "df.head().T"
   ]
  },
  {
   "cell_type": "code",
   "execution_count": 22,
   "id": "fcede044-ad3f-491b-9f7b-30159d3fd864",
   "metadata": {},
   "outputs": [],
   "source": [
    "#split data\n",
    "X = df.drop('Brand', axis = 1)\n",
    "y = df['Brand']\n",
    "X_train, X_test, y_train, y_test = train_test_split(X, y, test_size=0.2, random_state=42)\n",
    "\n",
    "#encode data\n",
    "scaler = StandardScaler()\n",
    "X_train_scaled = scaler.fit_transform(X_train)\n",
    "X_test_scaled = scaler.transform(X_test)"
   ]
  },
  {
   "cell_type": "code",
   "execution_count": 23,
   "id": "cdd342d0-5f44-4b1c-978d-931e71194912",
   "metadata": {},
   "outputs": [
    {
     "data": {
      "text/plain": [
       "RandomForestClassifier(random_state=42)"
      ]
     },
     "execution_count": 23,
     "metadata": {},
     "output_type": "execute_result"
    }
   ],
   "source": [
    "RFmodel = RandomForestClassifier(random_state=42)\n",
    "RFmodel.fit(X_train_scaled, y_train)"
   ]
  },
  {
   "cell_type": "code",
   "execution_count": 24,
   "id": "270f6ca0-afd2-4fd2-8421-63dc691ea56d",
   "metadata": {},
   "outputs": [
    {
     "name": "stdout",
     "output_type": "stream",
     "text": [
      "Random Forest Accuracy: 0.9222222222222223\n",
      "              precision    recall  f1-score   support\n",
      "\n",
      "        Acer       0.89      0.91      0.90       756\n",
      "        Sony       0.94      0.93      0.94      1224\n",
      "\n",
      "    accuracy                           0.92      1980\n",
      "   macro avg       0.92      0.92      0.92      1980\n",
      "weighted avg       0.92      0.92      0.92      1980\n",
      "\n"
     ]
    }
   ],
   "source": [
    "RFy_pred = RFmodel.predict(X_test_scaled)\n",
    "RFaccuracy = accuracy_score(y_test, RFy_pred)\n",
    "print(\"Random Forest Accuracy:\", RFaccuracy)\n",
    "print(classification_report(y_test, RFy_pred))"
   ]
  },
  {
   "cell_type": "code",
   "execution_count": 25,
   "id": "2eeb3601-1516-4e8b-b5f1-268406b5ad84",
   "metadata": {},
   "outputs": [
    {
     "name": "stdout",
     "output_type": "stream",
     "text": [
      "   Feature  Importance\n",
      "0   salary    0.518515\n",
      "1      age    0.280803\n",
      "5   credit    0.089863\n",
      "3      car    0.049117\n",
      "4  zipcode    0.035840\n",
      "2   elevel    0.025862\n"
     ]
    }
   ],
   "source": [
    "RFfeature_importance = RFmodel.feature_importances_\n",
    "RFfeature_names = X.columns\n",
    "RFfeature_importance_df = pd.DataFrame({'Feature': RFfeature_names, 'Importance': RFfeature_importance})\n",
    "RFfeature_importance_df = RFfeature_importance_df.sort_values(by='Importance', ascending=False)\n",
    "print(RFfeature_importance_df)"
   ]
  },
  {
   "cell_type": "code",
   "execution_count": 26,
   "id": "6b2f9127-4005-4560-a13d-d9475db14bc6",
   "metadata": {},
   "outputs": [
    {
     "name": "stdout",
     "output_type": "stream",
     "text": [
      "Random Forest Top features: ['salary', 'age', 'credit']\n"
     ]
    }
   ],
   "source": [
    "RFtop_features = RFfeature_importance_df['Feature'].head(3).tolist()\n",
    "print(\"Random Forest Top features:\", RFtop_features)"
   ]
  },
  {
   "cell_type": "code",
   "execution_count": 27,
   "id": "2e11ea0f-f034-45bf-855b-f998e79d6edb",
   "metadata": {},
   "outputs": [
    {
     "name": "stdout",
     "output_type": "stream",
     "text": [
      "[[ 685   71]\n",
      " [  83 1141]]\n"
     ]
    },
    {
     "data": {
      "image/png": "[encoded data removed]",
      "text/plain": [
       "<Figure size 576x432 with 2 Axes>"
      ]
     },
     "metadata": {
      "needs_background": "light"
     },
     "output_type": "display_data"
    }
   ],
   "source": [
    "#confusion matrix\n",
    "RFmatrix = metrics.confusion_matrix(y_test, RFy_pred)\n",
    "print(RFmatrix)\n",
    "\n",
    "#heatmap matrix\n",
    "plt.figure(figsize = (8,6))\n",
    "sns.heatmap(RFmatrix, annot = True, fmt = '.0f', cmap = 'viridis')\n",
    "plt.title(\"Random Forest Confusion Matrix\")\n",
    "plt.xlabel(\"Prediction\")\n",
    "plt.ylabel(\"Actual\")\n",
    "plt.show()"
   ]
  },
  {
   "cell_type": "code",
   "execution_count": 28,
   "id": "e82c1383-95e9-4556-883d-9e70605a122a",
   "metadata": {},
   "outputs": [
    {
     "data": {
      "text/plain": [
       "XGBClassifier(base_score=None, booster=None, callbacks=None,\n",
       "              colsample_bylevel=None, colsample_bynode=None,\n",
       "              colsample_bytree=None, early_stopping_rounds=None,\n",
       "              enable_categorical=False, eval_metric=None, feature_types=None,\n",
       "              gamma=None, gpu_id=None, grow_policy=None, importance_type=None,\n",
       "              interaction_constraints=None, learning_rate=None, max_bin=None,\n",
       "              max_cat_threshold=None, max_cat_to_onehot=None,\n",
       "              max_delta_step=None, max_depth=None, max_leaves=None,\n",
       "              min_child_weight=None, missing=nan, monotone_constraints=None,\n",
       "              n_estimators=100, n_jobs=None, num_parallel_tree=None,\n",
       "              predictor=None, random_state=42, ...)"
      ]
     },
     "execution_count": 28,
     "metadata": {},
     "output_type": "execute_result"
    }
   ],
   "source": [
    "le = LabelEncoder()\n",
    "y_train = le.fit_transform(y_train)\n",
    "XGBmodel = XGBClassifier(random_state=42)\n",
    "XGBmodel.fit(X_train_scaled, y_train)"
   ]
  },
  {
   "cell_type": "code",
   "execution_count": 29,
   "id": "b6d03522-ae26-4698-96d7-f515c20bd461",
   "metadata": {},
   "outputs": [
    {
     "name": "stdout",
     "output_type": "stream",
     "text": [
      "XGBoost Accuracy: 0.9085858585858586\n",
      "              precision    recall  f1-score   support\n",
      "\n",
      "        Acer       0.88      0.87      0.88       756\n",
      "        Sony       0.92      0.93      0.93      1224\n",
      "\n",
      "    accuracy                           0.91      1980\n",
      "   macro avg       0.90      0.90      0.90      1980\n",
      "weighted avg       0.91      0.91      0.91      1980\n",
      "\n"
     ]
    }
   ],
   "source": [
    "y_pred = XGBmodel.predict(X_test_scaled)\n",
    "y_pred = le.inverse_transform(y_pred)\n",
    "XGBaccuracy = accuracy_score(y_test, y_pred)\n",
    "print(\"XGBoost Accuracy:\", XGBaccuracy)\n",
    "print(classification_report(y_test, y_pred))"
   ]
  },
  {
   "cell_type": "code",
   "execution_count": 30,
   "id": "81d34d9b-fe9d-4826-8ed7-e6d89c3a01e1",
   "metadata": {},
   "outputs": [
    {
     "name": "stdout",
     "output_type": "stream",
     "text": [
      "   Feature  Importance\n",
      "1      age    0.516372\n",
      "0   salary    0.328897\n",
      "5   credit    0.043587\n",
      "3      car    0.037742\n",
      "2   elevel    0.037214\n",
      "4  zipcode    0.036188\n"
     ]
    }
   ],
   "source": [
    "XGBfeature_importance = XGBmodel.feature_importances_\n",
    "XGBfeature_names = X.columns\n",
    "XGBfeature_importance_df = pd.DataFrame({'Feature': XGBfeature_names, 'Importance': XGBfeature_importance})\n",
    "XGBfeature_importance_df = XGBfeature_importance_df.sort_values(by='Importance', ascending=False)\n",
    "print(XGBfeature_importance_df)"
   ]
  },
  {
   "cell_type": "code",
   "execution_count": 31,
   "id": "00ceb689-8144-41b6-91d0-5e4dd9f6a09e",
   "metadata": {},
   "outputs": [
    {
     "name": "stdout",
     "output_type": "stream",
     "text": [
      "XGBoost Top features: ['age', 'salary', 'credit']\n"
     ]
    }
   ],
   "source": [
    "XGBtop_features = XGBfeature_importance_df['Feature'].head(3).tolist()\n",
    "print(\"XGBoost Top features:\", XGBtop_features)"
   ]
  },
  {
   "cell_type": "code",
   "execution_count": 32,
   "id": "f35a417b-c44c-4222-9403-318c8284caf6",
   "metadata": {},
   "outputs": [
    {
     "name": "stdout",
     "output_type": "stream",
     "text": [
      "[[ 661   95]\n",
      " [  86 1138]]\n"
     ]
    },
    {
     "data": {
      "image/png": "[encoded data removed]",
      "text/plain": [
       "<Figure size 576x432 with 2 Axes>"
      ]
     },
     "metadata": {
      "needs_background": "light"
     },
     "output_type": "display_data"
    }
   ],
   "source": [
    "#confusion matrix\n",
    "XGBmatrix = metrics.confusion_matrix(y_test, y_pred)\n",
    "print(XGBmatrix)\n",
    "\n",
    "#heatmap matrix\n",
    "plt.figure(figsize = (8,6))\n",
    "sns.heatmap(XGBmatrix, annot = True, fmt = '.0f', cmap = 'viridis')\n",
    "plt.title(\"XGBoost Confusion Matrix\")\n",
    "plt.xlabel(\"Prediction\")\n",
    "plt.ylabel(\"Actual\")\n",
    "plt.show()"
   ]
  },
  {
   "cell_type": "markdown",
   "id": "c947e517-261a-4f3d-a543-79527d16795f",
   "metadata": {
    "tags": []
   },
   "source": [
    "## Conclusions\n",
    "* ### Random Forest model performs slightly better than XGBoost model, although, both models performed very well.\n",
    "* ### The top 3 features in determining preferred computer brand are Age, Salary, and Credit. \n",
    "* ### Age and Salary were the most dominate features."
   ]
  }
 ],
 "metadata": {
  "kernelspec": {
   "display_name": "Python 3 (ipykernel)",
   "language": "python",
   "name": "python3"
  },
  "language_info": {
   "codemirror_mode": {
    "name": "ipython",
    "version": 3
   },
   "file_extension": ".py",
   "mimetype": "text/x-python",
   "name": "python",
   "nbconvert_exporter": "python",
   "pygments_lexer": "ipython3",
   "version": "3.11.7"
  }
 },
 "nbformat": 4,
 "nbformat_minor": 5
}
